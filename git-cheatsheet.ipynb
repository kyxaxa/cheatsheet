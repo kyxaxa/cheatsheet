{
 "cells": [
  {
   "cell_type": "code",
   "execution_count": 8,
   "metadata": {},
   "outputs": [],
   "source": [
    "%matplotlib inline\n",
    "import matplotlib.pyplot as plt\n",
    "plt.rc('figure', figsize=(15.0, 10.0))\n",
    "plt.style.use('seaborn-whitegrid')\n",
    "import pandas as pd"
   ]
  },
  {
   "cell_type": "markdown",
   "metadata": {},
   "source": [
    "### Branches"
   ]
  },
  {
   "cell_type": "markdown",
   "metadata": {},
   "source": [
    "https://github.com/Kunena/Kunena-Forum/wiki/Create-a-new-branch-with-git-and-manage-branches"
   ]
  },
  {
   "cell_type": "markdown",
   "metadata": {},
   "source": [
    "# Workflow examples"
   ]
  },
  {
   "cell_type": "markdown",
   "metadata": {},
   "source": [
    "- https://git-scm.com/book/en/v2/Git-Branching-Basic-Branching-and-Merging\n",
    "\n",
    "    3.2 Git Branching - Basic Branching and Merging`\n",
    "\n",
    "    **Basic Branching and Merging**\n",
    "\n",
    "    Let’s go through a simple example of branching and merging with a workflow that you might use in the real world. You’ll follow these steps:\n",
    "\n",
    "    Do some work on a website.\n",
    "\n",
    "    Create a branch for a new story you’re working on.\n",
    "\n",
    "    Do some work in that branch.\n",
    "\n",
    "    At this stage, you’ll receive a call that another issue is critical and you need a hotfix. You’ll do the following:\n",
    "\n",
    "    Switch to your production branch.\n",
    "\n",
    "    Create a branch to add the hotfix.\n",
    "\n",
    "    After it’s tested, merge the hotfix branch, and push to production.\n",
    "\n",
    "    Switch back to your original story and continue working.\n",
    "\n",
    "- https://stackoverflow.com/questions/14168677/merge-development-branch-with-master\n"
   ]
  },
  {
   "cell_type": "code",
   "execution_count": null,
   "metadata": {},
   "outputs": [],
   "source": []
  },
  {
   "cell_type": "markdown",
   "metadata": {},
   "source": [
    "## Errors"
   ]
  },
  {
   "cell_type": "markdown",
   "metadata": {},
   "source": [
    "**fatal: LF would be replaced by CRLF in <some file in the repo>**\n",
    "\n",
    "You might want to set core.safecrlf to \"warn\", if you want only warning and not a fatal error.\n",
    "\n",
    "From \"git config\" mange page:"
   ]
  }
 ],
 "metadata": {
  "kernelspec": {
   "display_name": "Python 3",
   "language": "python",
   "name": "python3"
  },
  "language_info": {
   "codemirror_mode": {
    "name": "ipython",
    "version": 3
   },
   "file_extension": ".py",
   "mimetype": "text/x-python",
   "name": "python",
   "nbconvert_exporter": "python",
   "pygments_lexer": "ipython3",
   "version": "3.7.0"
  }
 },
 "nbformat": 4,
 "nbformat_minor": 2
}
